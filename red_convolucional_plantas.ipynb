{
  "nbformat": 4,
  "nbformat_minor": 0,
  "metadata": {
    "kernelspec": {
      "display_name": "Python 3",
      "language": "python",
      "name": "python3"
    },
    "language_info": {
      "codemirror_mode": {
        "name": "ipython",
        "version": 3
      },
      "file_extension": ".py",
      "mimetype": "text/x-python",
      "name": "python",
      "nbconvert_exporter": "python",
      "pygments_lexer": "ipython3",
      "version": "3.7.6"
    },
    "colab": {
      "name": "Arquitectura a entregar.ipynb",
      "provenance": [],
      "collapsed_sections": [],
      "include_colab_link": true
    },
    "accelerator": "GPU"
  },
  "cells": [
    {
      "cell_type": "markdown",
      "metadata": {
        "id": "view-in-github",
        "colab_type": "text"
      },
      "source": [
        "<a href=\"https://colab.research.google.com/github/franchesco98/Red-convolucional-plantas/blob/main/red_convolucional_plantas.ipynb\" target=\"_parent\"><img src=\"https://colab.research.google.com/assets/colab-badge.svg\" alt=\"Open In Colab\"/></a>"
      ]
    },
    {
      "cell_type": "markdown",
      "metadata": {
        "id": "PftGQlbpR_DE"
      },
      "source": [
        "Descarga del conjunto completo de entrenamiento."
      ]
    },
    {
      "cell_type": "code",
      "metadata": {
        "id": "clyOK6_x7-Jy",
        "colab": {
          "base_uri": "https://localhost:8080/",
          "height": 237
        },
        "outputId": "79de9f54-ecf6-4d8e-b0b4-f0687eb26fc5"
      },
      "source": [
        "!pip install gdown\n",
        "!gdown https://drive.google.com/uc?id=1A40ASJvKWE5QMnqhpxhkWF4gCd9EZoXm # Conjunto de entrenamiento entero de imágenes"
      ],
      "execution_count": null,
      "outputs": [
        {
          "output_type": "stream",
          "text": [
            "Requirement already satisfied: gdown in /usr/local/lib/python3.6/dist-packages (3.6.4)\n",
            "Requirement already satisfied: six in /usr/local/lib/python3.6/dist-packages (from gdown) (1.12.0)\n",
            "Requirement already satisfied: requests in /usr/local/lib/python3.6/dist-packages (from gdown) (2.23.0)\n",
            "Requirement already satisfied: tqdm in /usr/local/lib/python3.6/dist-packages (from gdown) (4.41.1)\n",
            "Requirement already satisfied: idna<3,>=2.5 in /usr/local/lib/python3.6/dist-packages (from requests->gdown) (2.9)\n",
            "Requirement already satisfied: chardet<4,>=3.0.2 in /usr/local/lib/python3.6/dist-packages (from requests->gdown) (3.0.4)\n",
            "Requirement already satisfied: certifi>=2017.4.17 in /usr/local/lib/python3.6/dist-packages (from requests->gdown) (2020.4.5.2)\n",
            "Requirement already satisfied: urllib3!=1.25.0,!=1.25.1,<1.26,>=1.21.1 in /usr/local/lib/python3.6/dist-packages (from requests->gdown) (1.24.3)\n",
            "Downloading...\n",
            "From: https://drive.google.com/uc?id=1A40ASJvKWE5QMnqhpxhkWF4gCd9EZoXm\n",
            "To: /content/Tarea1.zip\n",
            "493MB [00:02, 230MB/s]\n"
          ],
          "name": "stdout"
        }
      ]
    },
    {
      "cell_type": "markdown",
      "metadata": {
        "id": "KN2w07LXSc9Z"
      },
      "source": [
        "Exportar el zip con el conjunto de entrenamiento."
      ]
    },
    {
      "cell_type": "code",
      "metadata": {
        "id": "oVlYFJggnlZU"
      },
      "source": [
        "import zipfile\n",
        "\n",
        "carpeta_zip_imagenes = '/content/Tarea1.zip'\n",
        "\n",
        "archivo_zip = zipfile.ZipFile(carpeta_zip_imagenes, 'r')\n",
        " \n",
        "archivo_zip.extractall('/content/Tarea1')\n",
        "archivo_zip.close()"
      ],
      "execution_count": null,
      "outputs": []
    },
    {
      "cell_type": "markdown",
      "metadata": {
        "id": "fSH49CcaShax"
      },
      "source": [
        "Guardar el directorio de las carpetas con las imágenes de entrenamiento, validación y prueba en varibales para usarlas luego en los generadores."
      ]
    },
    {
      "cell_type": "code",
      "metadata": {
        "id": "DFnSc_q22ns4"
      },
      "source": [
        "import os\n",
        "carpeta_base_imagenes = '/content/Tarea1'\n",
        " \n",
        "conjunto_entrenamiento = os.path.join(carpeta_base_imagenes, 'train')\n",
        "conjunto_validacion = os.path.join(carpeta_base_imagenes, 'val')\n",
        "conjunto_prueba = os.path.join(carpeta_base_imagenes, 'test')"
      ],
      "execution_count": null,
      "outputs": []
    },
    {
      "cell_type": "markdown",
      "metadata": {
        "id": "XMXcvNETS0x_"
      },
      "source": [
        "Creación del modelo de red convolucional."
      ]
    },
    {
      "cell_type": "code",
      "metadata": {
        "id": "PCvcjoTI2ntS"
      },
      "source": [
        "!pip install tensorflow-addons~=0.7 # Instalación del addon de tensorflow, para poder usar group normalization ()\n",
        "import tensorflow as tf\n",
        "import tensorflow_addons as tfa\n",
        "from tensorflow.keras.models import Sequential\n",
        "from tensorflow.keras.layers import Dense, Conv2D, Flatten, Dropout, MaxPooling2D, Activation\n",
        "from tensorflow.keras.optimizers import RMSprop\n",
        "from tensorflow.keras.preprocessing.image import ImageDataGenerator\n",
        " \n",
        "model = Sequential([\n",
        "  Conv2D(64, (11,11), input_shape = (256, 256, 3), kernel_initializer = 'he_uniform'),\n",
        "  tfa.layers.GroupNormalization(groups = 4, axis = 3), \n",
        "  Activation('relu'),\n",
        "  MaxPooling2D(2,2),\n",
        "  Dropout(0.2),\n",
        "\n",
        "  Conv2D(64, (11,11), kernel_initializer = 'he_uniform'),\n",
        "  tfa.layers.GroupNormalization(groups = 4, axis = 3), \n",
        "  Activation('relu'),\n",
        "  MaxPooling2D(2,2),\n",
        " \n",
        "  Conv2D(128, (11,11), kernel_initializer = 'he_uniform'),\n",
        "  tfa.layers.GroupNormalization(groups = 4, axis = 3), \n",
        "  Activation('relu'),\n",
        "  MaxPooling2D(2,2),\n",
        "\n",
        "  Conv2D(256, (11,11), kernel_initializer = 'he_uniform'),\n",
        "  tfa.layers.GroupNormalization(groups = 4, axis = 3), \n",
        "  Activation('relu'),\n",
        "  MaxPooling2D(2,2),\n",
        "  Dropout(0.2),\n",
        " \n",
        "  Flatten(),\n",
        "\n",
        "  Dense(9, activation='softmax')\n",
        "])"
      ],
      "execution_count": null,
      "outputs": []
    },
    {
      "cell_type": "code",
      "metadata": {
        "id": "Sjrw7B9wWgsU",
        "colab": {
          "base_uri": "https://localhost:8080/",
          "height": 899
        },
        "outputId": "fd14cb9f-234f-4927-d80f-5625d9bcbae8"
      },
      "source": [
        "model.summary()"
      ],
      "execution_count": null,
      "outputs": [
        {
          "output_type": "stream",
          "text": [
            "Model: \"sequential\"\n",
            "_________________________________________________________________\n",
            "Layer (type)                 Output Shape              Param #   \n",
            "=================================================================\n",
            "conv2d (Conv2D)              (None, 246, 246, 64)      23296     \n",
            "_________________________________________________________________\n",
            "group_normalization (GroupNo (None, 246, 246, 64)      128       \n",
            "_________________________________________________________________\n",
            "activation (Activation)      (None, 246, 246, 64)      0         \n",
            "_________________________________________________________________\n",
            "max_pooling2d (MaxPooling2D) (None, 123, 123, 64)      0         \n",
            "_________________________________________________________________\n",
            "dropout (Dropout)            (None, 123, 123, 64)      0         \n",
            "_________________________________________________________________\n",
            "conv2d_1 (Conv2D)            (None, 113, 113, 64)      495680    \n",
            "_________________________________________________________________\n",
            "group_normalization_1 (Group (None, 113, 113, 64)      128       \n",
            "_________________________________________________________________\n",
            "activation_1 (Activation)    (None, 113, 113, 64)      0         \n",
            "_________________________________________________________________\n",
            "max_pooling2d_1 (MaxPooling2 (None, 56, 56, 64)        0         \n",
            "_________________________________________________________________\n",
            "conv2d_2 (Conv2D)            (None, 46, 46, 128)       991360    \n",
            "_________________________________________________________________\n",
            "group_normalization_2 (Group (None, 46, 46, 128)       256       \n",
            "_________________________________________________________________\n",
            "activation_2 (Activation)    (None, 46, 46, 128)       0         \n",
            "_________________________________________________________________\n",
            "max_pooling2d_2 (MaxPooling2 (None, 23, 23, 128)       0         \n",
            "_________________________________________________________________\n",
            "conv2d_3 (Conv2D)            (None, 13, 13, 256)       3965184   \n",
            "_________________________________________________________________\n",
            "group_normalization_3 (Group (None, 13, 13, 256)       512       \n",
            "_________________________________________________________________\n",
            "activation_3 (Activation)    (None, 13, 13, 256)       0         \n",
            "_________________________________________________________________\n",
            "max_pooling2d_3 (MaxPooling2 (None, 6, 6, 256)         0         \n",
            "_________________________________________________________________\n",
            "dropout_1 (Dropout)          (None, 6, 6, 256)         0         \n",
            "_________________________________________________________________\n",
            "flatten (Flatten)            (None, 9216)              0         \n",
            "_________________________________________________________________\n",
            "dense (Dense)                (None, 9)                 82953     \n",
            "=================================================================\n",
            "Total params: 5,559,497\n",
            "Trainable params: 5,559,497\n",
            "Non-trainable params: 0\n",
            "_________________________________________________________________\n"
          ],
          "name": "stdout"
        }
      ]
    },
    {
      "cell_type": "markdown",
      "metadata": {
        "id": "a32DBGi3HGrk"
      },
      "source": [
        "Ejecución del entrenamiento de la red neuronal."
      ]
    },
    {
      "cell_type": "code",
      "metadata": {
        "id": "z5Bls7rJWiUG",
        "colab": {
          "base_uri": "https://localhost:8080/",
          "height": 1000
        },
        "outputId": "5b2807f3-4c74-4791-b10a-22a2c6a303c9"
      },
      "source": [
        "# Normalización de las imágenes de prueba, así como aplicar data augmentation al conjunto de entrenamiento (haciendo un volteo horizontal a las imágenes).\n",
        "entrenamiento_generador_datos = ImageDataGenerator(rescale = 1.0/255., horizontal_flip=True)\n",
        "validacion_generador_datos  = ImageDataGenerator(rescale = 1.0/255.)\n",
        "prueba_generador_datos  = ImageDataGenerator(rescale = 1.0/255.)\n",
        "\n",
        "# Tamaño del batch a utilizar en esta red.\n",
        "batch_size = 32\n",
        " \n",
        "generador_entrenamiento = entrenamiento_generador_datos.flow_from_directory(conjunto_entrenamiento, \n",
        "                                                                            batch_size = batch_size, \n",
        "                                                                            class_mode = 'categorical', \n",
        "                                                                            target_size =(256, 256))     \n",
        " \n",
        "generador_validacion =  validacion_generador_datos.flow_from_directory(conjunto_validacion,\n",
        "                                                         batch_size = batch_size,\n",
        "                                                         class_mode = 'categorical',\n",
        "                                                         target_size = (256, 256))\n",
        "  \n",
        "generador_prueba = prueba_generador_datos.flow_from_directory(conjunto_prueba,\n",
        "                                                         batch_size = batch_size,\n",
        "                                                         class_mode = 'categorical',\n",
        "                                                         target_size = (256, 256))\n",
        "\n",
        "'''\n",
        "Configuración de la red neuronal, usándose el optimizador RMSprop con un learning rate de 0.0001, \n",
        "categorical crossentropy como función de loss, y 'acc' (precisión) como métrica para monitorizar la red\n",
        "'''\n",
        "model.compile(optimizer = RMSprop(lr=0.0001),\n",
        "              loss = 'categorical_crossentropy',\n",
        "              metrics = ['acc'])\n",
        "\n",
        "# Con model.fit entrenamos la red.\n",
        "history = model.fit(\n",
        "      generador_entrenamiento,\n",
        "      steps_per_epoch = generador_entrenamiento.n // batch_size,  \n",
        "      epochs = 30,\n",
        "      validation_data = generador_validacion,\n",
        "      validation_steps = generador_validacion.n // batch_size,  \n",
        "      verbose = 2)\n",
        "\n",
        "# Calculamos la precisión de la red, así como la loss de esta\n",
        "loss_prueba, precision_prueba = model.evaluate_generator(generador_prueba)\n",
        "print ('Loss en el conjunto de prueba:', loss_prueba)\n",
        "print ('Precisión en el conjunto de prueba:', precision_prueba*100, '%')"
      ],
      "execution_count": null,
      "outputs": [
        {
          "output_type": "stream",
          "text": [
            "Found 12002 images belonging to 9 classes.\n",
            "Found 3005 images belonging to 9 classes.\n",
            "Found 2501 images belonging to 9 classes.\n",
            "Epoch 1/30\n",
            "375/375 - 75s - loss: 1.6660 - acc: 0.4987 - val_loss: 1.4476 - val_acc: 0.5360\n",
            "Epoch 2/30\n",
            "375/375 - 74s - loss: 1.4229 - acc: 0.5267 - val_loss: 1.2949 - val_acc: 0.5464\n",
            "Epoch 3/30\n",
            "375/375 - 74s - loss: 1.3166 - acc: 0.5450 - val_loss: 1.2908 - val_acc: 0.5410\n",
            "Epoch 4/30\n",
            "375/375 - 74s - loss: 1.2489 - acc: 0.5658 - val_loss: 1.2168 - val_acc: 0.5726\n",
            "Epoch 5/30\n",
            "375/375 - 74s - loss: 1.2014 - acc: 0.5778 - val_loss: 1.3633 - val_acc: 0.4956\n",
            "Epoch 6/30\n",
            "375/375 - 74s - loss: 1.1475 - acc: 0.5964 - val_loss: 1.0958 - val_acc: 0.6042\n",
            "Epoch 7/30\n",
            "375/375 - 74s - loss: 1.0930 - acc: 0.6121 - val_loss: 1.0258 - val_acc: 0.6341\n",
            "Epoch 8/30\n",
            "375/375 - 74s - loss: 1.0521 - acc: 0.6251 - val_loss: 1.1372 - val_acc: 0.6092\n",
            "Epoch 9/30\n",
            "375/375 - 74s - loss: 1.0274 - acc: 0.6323 - val_loss: 0.9564 - val_acc: 0.6556\n",
            "Epoch 10/30\n",
            "375/375 - 74s - loss: 0.9918 - acc: 0.6471 - val_loss: 1.0581 - val_acc: 0.6253\n",
            "Epoch 11/30\n",
            "375/375 - 74s - loss: 0.9580 - acc: 0.6591 - val_loss: 1.1142 - val_acc: 0.6220\n",
            "Epoch 12/30\n",
            "375/375 - 74s - loss: 0.9398 - acc: 0.6632 - val_loss: 0.9603 - val_acc: 0.6546\n",
            "Epoch 13/30\n",
            "375/375 - 74s - loss: 0.9156 - acc: 0.6751 - val_loss: 0.9211 - val_acc: 0.6589\n",
            "Epoch 14/30\n",
            "375/375 - 74s - loss: 0.9047 - acc: 0.6772 - val_loss: 0.9168 - val_acc: 0.6808\n",
            "Epoch 15/30\n",
            "375/375 - 74s - loss: 0.8723 - acc: 0.6907 - val_loss: 0.9255 - val_acc: 0.6643\n",
            "Epoch 16/30\n",
            "375/375 - 74s - loss: 0.8601 - acc: 0.6856 - val_loss: 0.9825 - val_acc: 0.6401\n",
            "Epoch 17/30\n",
            "375/375 - 74s - loss: 0.8347 - acc: 0.7022 - val_loss: 0.8228 - val_acc: 0.7009\n",
            "Epoch 18/30\n",
            "375/375 - 74s - loss: 0.8186 - acc: 0.7063 - val_loss: 0.8961 - val_acc: 0.6727\n",
            "Epoch 19/30\n",
            "375/375 - 74s - loss: 0.8072 - acc: 0.7112 - val_loss: 0.8355 - val_acc: 0.7023\n",
            "Epoch 20/30\n",
            "375/375 - 74s - loss: 0.7915 - acc: 0.7166 - val_loss: 1.0507 - val_acc: 0.6173\n",
            "Epoch 21/30\n",
            "375/375 - 74s - loss: 0.7758 - acc: 0.7226 - val_loss: 0.8682 - val_acc: 0.6885\n",
            "Epoch 22/30\n",
            "375/375 - 74s - loss: 0.7598 - acc: 0.7231 - val_loss: 0.9918 - val_acc: 0.6552\n",
            "Epoch 23/30\n",
            "375/375 - 74s - loss: 0.7501 - acc: 0.7314 - val_loss: 0.7819 - val_acc: 0.7214\n",
            "Epoch 24/30\n",
            "375/375 - 74s - loss: 0.7307 - acc: 0.7384 - val_loss: 0.7763 - val_acc: 0.7251\n",
            "Epoch 25/30\n",
            "375/375 - 74s - loss: 0.7254 - acc: 0.7419 - val_loss: 0.7984 - val_acc: 0.7191\n",
            "Epoch 26/30\n",
            "375/375 - 74s - loss: 0.7116 - acc: 0.7453 - val_loss: 0.8028 - val_acc: 0.7144\n",
            "Epoch 27/30\n",
            "375/375 - 74s - loss: 0.7018 - acc: 0.7476 - val_loss: 0.7966 - val_acc: 0.7231\n",
            "Epoch 28/30\n",
            "375/375 - 74s - loss: 0.6885 - acc: 0.7582 - val_loss: 0.7345 - val_acc: 0.7413\n",
            "Epoch 29/30\n",
            "375/375 - 74s - loss: 0.6742 - acc: 0.7591 - val_loss: 0.7843 - val_acc: 0.7295\n",
            "Epoch 30/30\n",
            "375/375 - 74s - loss: 0.6628 - acc: 0.7622 - val_loss: 0.7561 - val_acc: 0.7379\n",
            "WARNING:tensorflow:From <ipython-input-6-984fb725ebb9>:42: Model.evaluate_generator (from tensorflow.python.keras.engine.training) is deprecated and will be removed in a future version.\n",
            "Instructions for updating:\n",
            "Please use Model.evaluate, which supports generators.\n",
            "Loss en el conjunto de prueba: 0.7530612349510193\n",
            "Precisión en el conjunto de prueba: 73.45061898231506 %\n"
          ],
          "name": "stdout"
        }
      ]
    },
    {
      "cell_type": "markdown",
      "metadata": {
        "id": "Y3WysGALTa-f"
      },
      "source": [
        "Guardar los pesos calculados en el entrenamiento."
      ]
    },
    {
      "cell_type": "code",
      "metadata": {
        "id": "wwV7nG182eXa"
      },
      "source": [
        "model.save('/content/modelo-entrega.h5')"
      ],
      "execution_count": null,
      "outputs": []
    },
    {
      "cell_type": "markdown",
      "metadata": {
        "id": "q3iD5mWBThJy"
      },
      "source": [
        "Gráficas donde se muestran tanto la precisión en el conjunto de entrenamiento y en el conjunto de validación (primera gráfica), como la loss en el conjunto de entrenamiento y en el conjunto de validación (segunda gráfica).  \n",
        "**NOTA:** El código para mostrar dichas gráficas está sacado del libro [Deep Learning, Introducción práctica con Keras (SEGUNDA PARTE)](https://torres.ai/datos-y-overfitting-keras-tensorflow/#Visualizacion_del_comportamiento_del_entrenamiento)"
      ]
    },
    {
      "cell_type": "code",
      "metadata": {
        "id": "jCyVZXj3iEXa",
        "colab": {
          "base_uri": "https://localhost:8080/",
          "height": 610
        },
        "outputId": "9142b6dd-3cb1-4d35-aa77-cff59e8b78b0"
      },
      "source": [
        "import matplotlib.pyplot as plt\n",
        "acc      = history.history[     'acc' ]\n",
        "val_acc  = history.history[ 'val_acc' ]\n",
        "loss     = history.history[    'loss' ]\n",
        "val_loss = history.history['val_loss' ]\n",
        "\n",
        "epochs   = range(1,len(acc)+1,1)\n",
        "\n",
        "plt.plot ( epochs,     acc, 'r--', label='Precisión conj. entrenamiento'  )\n",
        "plt.plot ( epochs, val_acc,  'b', label='Precisión conj. validación')\n",
        "plt.title ('Precisión en el conjunto de entrenamiento y en el de validación')\n",
        "plt.ylabel('precisión')\n",
        "plt.xlabel('epochs')\n",
        "\n",
        "plt.legend()\n",
        "plt.figure()\n",
        "\n",
        "plt.plot ( epochs,     loss, 'r--', label='Loss conj. entrenamiento')\n",
        "plt.plot ( epochs, val_loss ,  'b' , label='Loss conj. validación')\n",
        "plt.title ('Loss en el conjunto de entrenamiento y en el de validación'   )\n",
        "plt.ylabel('precisión')\n",
        "plt.xlabel('epochs')\n",
        "\n",
        "plt.legend()\n",
        "plt.figure()"
      ],
      "execution_count": null,
      "outputs": [
        {
          "output_type": "execute_result",
          "data": {
            "text/plain": [
              "<Figure size 432x288 with 0 Axes>"
            ]
          },
          "metadata": {
            "tags": []
          },
          "execution_count": 8
        },
        {
          "output_type": "display_data",
          "data": {
            "image/png": "[encoded data removed]",
            "text/plain": [
              "<Figure size 432x288 with 1 Axes>"
            ]
          },
          "metadata": {
            "tags": [],
            "needs_background": "light"
          }
        },
        {
          "output_type": "display_data",
          "data": {
            "image/png": "[encoded data removed]",
            "text/plain": [
              "<Figure size 432x288 with 1 Axes>"
            ]
          },
          "metadata": {
            "tags": [],
            "needs_background": "light"
          }
        },
        {
          "output_type": "display_data",
          "data": {
            "text/plain": [
              "<Figure size 432x288 with 0 Axes>"
            ]
          },
          "metadata": {
            "tags": []
          }
        }
      ]
    }
  ]
}